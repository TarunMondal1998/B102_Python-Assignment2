{
 "cells": [
  {
   "cell_type": "markdown",
   "id": "6542c064",
   "metadata": {},
   "source": [
    "# Assignment - 2"
   ]
  },
  {
   "cell_type": "markdown",
   "id": "ed77002b",
   "metadata": {},
   "source": [
    "## Task -I"
   ]
  },
  {
   "cell_type": "markdown",
   "id": "6cd25f72",
   "metadata": {},
   "source": [
    "### Question 1"
   ]
  },
  {
   "cell_type": "code",
   "execution_count": 3,
   "id": "bf610a59",
   "metadata": {},
   "outputs": [
    {
     "name": "stdout",
     "output_type": "stream",
     "text": [
      "Enter your basic salary:45678.00\n"
     ]
    }
   ],
   "source": [
    "Basic_salary = float(input(\"Enter your basic salary:\"))"
   ]
  },
  {
   "cell_type": "code",
   "execution_count": 4,
   "id": "e3be71a5",
   "metadata": {},
   "outputs": [],
   "source": [
    "dearness_allowance = Basic_salary*0.40\n",
    "house_rent_allowance = Basic_salary*0.20"
   ]
  },
  {
   "cell_type": "code",
   "execution_count": 8,
   "id": "3d03e1c0",
   "metadata": {},
   "outputs": [
    {
     "name": "stdout",
     "output_type": "stream",
     "text": [
      "Ramesh's gross salary is: 73084.8\n"
     ]
    }
   ],
   "source": [
    "gross_salary = Basic_salary+dearness_allowance+house_rent_allowance\n",
    "print(f\"Ramesh's gross salary is: {gross_salary}\")"
   ]
  },
  {
   "cell_type": "markdown",
   "id": "5d634e03",
   "metadata": {},
   "source": [
    "### Question 2"
   ]
  },
  {
   "cell_type": "code",
   "execution_count": 195,
   "id": "ca5464d7",
   "metadata": {},
   "outputs": [
    {
     "name": "stdout",
     "output_type": "stream",
     "text": [
      "Enter the distance in Km: 12.90\n"
     ]
    }
   ],
   "source": [
    "distance = float(input(\"Enter the distance in Km: \"))"
   ]
  },
  {
   "cell_type": "code",
   "execution_count": 196,
   "id": "3f22a94d",
   "metadata": {},
   "outputs": [],
   "source": [
    "distance_m = distance*1000\n",
    "distance_f = distance*3280.84\n",
    "distance_c = distance*100000"
   ]
  },
  {
   "cell_type": "code",
   "execution_count": 197,
   "id": "5d3b8223",
   "metadata": {},
   "outputs": [
    {
     "name": "stdout",
     "output_type": "stream",
     "text": [
      "The distance is: 12900.0 m\n",
      "The distance is: 42322.84 ft\n",
      "The distance is: 1290000.0 cm\n"
     ]
    }
   ],
   "source": [
    "print(f\"The distance is: {distance_m} m\")\n",
    "print(f\"The distance is: {round(distance_f,2)} ft\")\n",
    "print(f\"The distance is: {distance_c} cm\")"
   ]
  },
  {
   "cell_type": "markdown",
   "id": "be01fa3a",
   "metadata": {},
   "source": [
    "### Question 3"
   ]
  },
  {
   "cell_type": "code",
   "execution_count": 14,
   "id": "6923d6a7",
   "metadata": {},
   "outputs": [
    {
     "name": "stdout",
     "output_type": "stream",
     "text": [
      "Enter your marks in First Language: 78\n",
      "Enter your marks in Second Language: 83\n",
      "Enter your marks in physics: 79\n",
      "Enter your marks in Chemistry: 84\n",
      "Enter your marks in Statistics: 87\n"
     ]
    }
   ],
   "source": [
    "First_language = float(input(\"Enter your marks in First Language: \"))\n",
    "Second_language = float(input(\"Enter your marks in Second Language: \"))\n",
    "physics = float(input(\"Enter your marks in physics: \"))\n",
    "chemistry = float(input(\"Enter your marks in Chemistry: \"))\n",
    "statistics = float(input(\"Enter your marks in Statistics: \"))"
   ]
  },
  {
   "cell_type": "code",
   "execution_count": 16,
   "id": "62007ec9",
   "metadata": {},
   "outputs": [
    {
     "name": "stdout",
     "output_type": "stream",
     "text": [
      "Your aggregated marks is: 411.0\n"
     ]
    }
   ],
   "source": [
    "aggregate = First_language+Second_language+physics+chemistry+statistics\n",
    "print (f\"Your aggregated marks is: {aggregate}\")"
   ]
  },
  {
   "cell_type": "code",
   "execution_count": 18,
   "id": "90323da6",
   "metadata": {},
   "outputs": [
    {
     "name": "stdout",
     "output_type": "stream",
     "text": [
      "Your percentage marks is: 82.2%\n"
     ]
    }
   ],
   "source": [
    "percenatge = (aggregate/5)\n",
    "print (f\"Your percentage marks is: {percenatge}%\")"
   ]
  },
  {
   "cell_type": "markdown",
   "id": "59d050f5",
   "metadata": {},
   "source": [
    "### Question 4"
   ]
  },
  {
   "cell_type": "code",
   "execution_count": 193,
   "id": "6028f443",
   "metadata": {},
   "outputs": [
    {
     "name": "stdout",
     "output_type": "stream",
     "text": [
      "Today's temperature (in Fahrenheit): 90\n"
     ]
    }
   ],
   "source": [
    "temperature = float(input(\"Today's temperature (in Fahrenheit): \"))"
   ]
  },
  {
   "cell_type": "code",
   "execution_count": 194,
   "id": "9339106e",
   "metadata": {},
   "outputs": [
    {
     "name": "stdout",
     "output_type": "stream",
     "text": [
      "Today's temperature in celcius degrees is: 32.22 degree-celcius\n"
     ]
    }
   ],
   "source": [
    "temperature_celcius = (5/9)*(temperature-32)\n",
    "print(f\"Today's temperature in celcius degrees is: {round(temperature_celcius,2)} degree-celcius\")"
   ]
  },
  {
   "cell_type": "markdown",
   "id": "3bb5186a",
   "metadata": {},
   "source": [
    "### Question 5"
   ]
  },
  {
   "cell_type": "code",
   "execution_count": 26,
   "id": "56bee2b5",
   "metadata": {},
   "outputs": [
    {
     "name": "stdout",
     "output_type": "stream",
     "text": [
      "length of the rectangle: 45\n",
      "breadth of the rectangle: 12\n"
     ]
    }
   ],
   "source": [
    "length = float(input(\"length of the rectangle: \"))\n",
    "breadth = float(input(\"breadth of the rectangle: \"))"
   ]
  },
  {
   "cell_type": "code",
   "execution_count": 27,
   "id": "4e37d29b",
   "metadata": {},
   "outputs": [
    {
     "name": "stdout",
     "output_type": "stream",
     "text": [
      "Area of the rectangle is: 540.0\n",
      "Perimeter of the rectangle is: 114.0\n"
     ]
    }
   ],
   "source": [
    "area_rect = length*breadth\n",
    "perimeter_rect = 2*(length+breadth)\n",
    "print (\"Area of the rectangle is:\", area_rect)\n",
    "print(\"Perimeter of the rectangle is:\", perimeter_rect)"
   ]
  },
  {
   "cell_type": "code",
   "execution_count": 198,
   "id": "f0ed5bd7",
   "metadata": {},
   "outputs": [
    {
     "name": "stdout",
     "output_type": "stream",
     "text": [
      "Enter the radius of the circle: 12.45\n"
     ]
    }
   ],
   "source": [
    "radius = float(input(\"Enter the radius of the circle: \"))"
   ]
  },
  {
   "cell_type": "code",
   "execution_count": 199,
   "id": "2790fae5",
   "metadata": {},
   "outputs": [
    {
     "name": "stdout",
     "output_type": "stream",
     "text": [
      "Area of the circle is:  487.79\n",
      "Circumference of the circle is:  78.36\n"
     ]
    }
   ],
   "source": [
    "area_circle = 3.147*radius*radius\n",
    "circumference = 2*3.147*radius\n",
    "print(\"Area of the circle is: \", round(area_circle,2))\n",
    "print (\"Circumference of the circle is: \", round(circumference,2))"
   ]
  },
  {
   "cell_type": "markdown",
   "id": "23c942b9",
   "metadata": {},
   "source": [
    "### Question 6"
   ]
  },
  {
   "cell_type": "code",
   "execution_count": 79,
   "id": "a86a8f0c",
   "metadata": {},
   "outputs": [
    {
     "name": "stdout",
     "output_type": "stream",
     "text": [
      "Enter number 1: 12\n",
      "Enter number 2: 34\n"
     ]
    }
   ],
   "source": [
    "C = int(input(\"Enter number 1: \"))\n",
    "D = int(input(\"Enter number 2: \"))"
   ]
  },
  {
   "cell_type": "code",
   "execution_count": 80,
   "id": "a64d9c02",
   "metadata": {},
   "outputs": [],
   "source": [
    "C, D = D, C"
   ]
  },
  {
   "cell_type": "code",
   "execution_count": 82,
   "id": "9d6c94db",
   "metadata": {},
   "outputs": [
    {
     "name": "stdout",
     "output_type": "stream",
     "text": [
      "After interchange: C: 34, D: 12\n"
     ]
    }
   ],
   "source": [
    "print (f\"After interchange: C: {C}, D: {D}\")"
   ]
  },
  {
   "cell_type": "markdown",
   "id": "24c9aa60",
   "metadata": {},
   "source": [
    "### Question 7"
   ]
  },
  {
   "cell_type": "code",
   "execution_count": 64,
   "id": "d91d617e",
   "metadata": {},
   "outputs": [
    {
     "name": "stdout",
     "output_type": "stream",
     "text": [
      "Enter the 5 digit number: 12345\n"
     ]
    }
   ],
   "source": [
    "five_digit_number = input(\"Enter the 5 digit number: \")"
   ]
  },
  {
   "cell_type": "code",
   "execution_count": 65,
   "id": "ddf1bf1e",
   "metadata": {},
   "outputs": [
    {
     "name": "stdout",
     "output_type": "stream",
     "text": [
      "The sum of the digits is: 15\n"
     ]
    }
   ],
   "source": [
    "if len(five_digit_number) == 5 and five_digit_number.isdigit():\n",
    "    # Calculate the sum of the digits\n",
    "    digit_sum = 0\n",
    "    for digit in five_digit_number:\n",
    "        digit_sum += int(digit)\n",
    "    print(\"The sum of the digits is:\", digit_sum)\n",
    "else:\n",
    "    print(\"Please enter a valid five-digit number.\")"
   ]
  },
  {
   "cell_type": "markdown",
   "id": "651caf0b",
   "metadata": {},
   "source": [
    "### Question 8"
   ]
  },
  {
   "cell_type": "code",
   "execution_count": 31,
   "id": "e9cb0391",
   "metadata": {},
   "outputs": [
    {
     "name": "stdout",
     "output_type": "stream",
     "text": [
      "Enter the 5 digit number: 34561\n"
     ]
    }
   ],
   "source": [
    "number_5_digit = int(input(\"Enter the 5 digit number: \"))"
   ]
  },
  {
   "cell_type": "code",
   "execution_count": 35,
   "id": "1f655f83",
   "metadata": {},
   "outputs": [],
   "source": [
    "reverse = 0"
   ]
  },
  {
   "cell_type": "code",
   "execution_count": 37,
   "id": "397f7714",
   "metadata": {},
   "outputs": [
    {
     "name": "stdout",
     "output_type": "stream",
     "text": [
      "Reverse is:  16543\n"
     ]
    }
   ],
   "source": [
    "while number_5_digit>0:\n",
    "    digit = number_5_digit%10\n",
    "    reverse = reverse*10+digit\n",
    "    number_5_digit //= 10\n",
    "print(\"Reverse is: \", reverse)"
   ]
  },
  {
   "cell_type": "markdown",
   "id": "20d429e4",
   "metadata": {},
   "source": [
    "### Question 9"
   ]
  },
  {
   "cell_type": "code",
   "execution_count": 91,
   "id": "73af4b82",
   "metadata": {},
   "outputs": [
    {
     "name": "stdout",
     "output_type": "stream",
     "text": [
      "Enter a four digit number: 5678\n"
     ]
    }
   ],
   "source": [
    "four_digit_number = input(\"Enter a four digit number: \")"
   ]
  },
  {
   "cell_type": "code",
   "execution_count": 92,
   "id": "320f7ca3",
   "metadata": {},
   "outputs": [
    {
     "name": "stdout",
     "output_type": "stream",
     "text": [
      "The sum is:  13\n"
     ]
    }
   ],
   "source": [
    "if len(four_digit_number) == 4 and four_digit_number.isdigit():\n",
    "    digit_1 = int(four_digit_number[0])\n",
    "    digit_2 = int(four_digit_number[-1])\n",
    "    digit_sum = digit_1 + digit_2\n",
    "    print (\"The sum is: \", digit_sum)\n",
    "else:\n",
    "    print (\"Please enter a valid input\")"
   ]
  },
  {
   "cell_type": "markdown",
   "id": "05d7f712",
   "metadata": {},
   "source": [
    "### Question 10"
   ]
  },
  {
   "cell_type": "code",
   "execution_count": 66,
   "id": "96daf5cf",
   "metadata": {},
   "outputs": [],
   "source": [
    "population = 80000"
   ]
  },
  {
   "cell_type": "code",
   "execution_count": 70,
   "id": "9b529555",
   "metadata": {},
   "outputs": [
    {
     "name": "stdout",
     "output_type": "stream",
     "text": [
      "Men: 41600.0\n",
      "Women: 38400.0\n",
      "Total literate population:  38400.0\n"
     ]
    }
   ],
   "source": [
    "men = population*0.52\n",
    "women = population-(population*0.52)\n",
    "total_literacy = 0.48*population\n",
    "print(\"Men:\", men)\n",
    "print(\"Women:\", women)\n",
    "print(\"Total literate population: \", total_literacy)"
   ]
  },
  {
   "cell_type": "code",
   "execution_count": 72,
   "id": "cd60d6a6",
   "metadata": {},
   "outputs": [
    {
     "name": "stdout",
     "output_type": "stream",
     "text": [
      "Literate men:  28000.0\n",
      "Literate women:  10400.0\n"
     ]
    }
   ],
   "source": [
    "literate_men = population*0.35\n",
    "print(\"Literate men: \", literate_men)\n",
    "literate_women = total_literacy -literate_men\n",
    "print(\"Literate women: \", literate_women)"
   ]
  },
  {
   "cell_type": "markdown",
   "id": "ac27a4ca",
   "metadata": {},
   "source": [
    "### Question 11"
   ]
  },
  {
   "cell_type": "code",
   "execution_count": 98,
   "id": "343e3a50",
   "metadata": {},
   "outputs": [
    {
     "name": "stdout",
     "output_type": "stream",
     "text": [
      "Enter the amount to be withdrawn: 4560\n"
     ]
    }
   ],
   "source": [
    "amount = int (input(\"Enter the amount to be withdrawn: \"))"
   ]
  },
  {
   "cell_type": "code",
   "execution_count": 99,
   "id": "710bac37",
   "metadata": {},
   "outputs": [
    {
     "name": "stdout",
     "output_type": "stream",
     "text": [
      "Number of 100 ruppes note:  45\n",
      "Number of 50 ruppes note:  1\n",
      "Number of 100 ruppes note:  1\n"
     ]
    }
   ],
   "source": [
    "if amount%10 ==0:\n",
    "    currency_100 = amount//100\n",
    "    remaining = amount%100\n",
    "    currency_50 = remaining//50\n",
    "    remianing2= amount%50\n",
    "    current_10 = remianing2//10\n",
    "    \n",
    "    print (\"Number of 100 ruppes note: \", currency_100)\n",
    "    print (\"Number of 50 ruppes note: \", currency_50)\n",
    "    print (\"Number of 100 ruppes note: \", current_10)\n",
    "else:\n",
    "    print(\"Please enter in multiple of 10\")"
   ]
  },
  {
   "cell_type": "markdown",
   "id": "5f5b7ffa",
   "metadata": {},
   "source": [
    "### Question 12"
   ]
  },
  {
   "cell_type": "code",
   "execution_count": 73,
   "id": "51c2363a",
   "metadata": {},
   "outputs": [
    {
     "name": "stdout",
     "output_type": "stream",
     "text": [
      "Enter the total selling price of 15 items: 45678\n",
      "Enter the amount of profit earned: 3456\n"
     ]
    }
   ],
   "source": [
    "selling_price = float(input(\"Enter the total selling price of 15 items: \"))\n",
    "profit_earned = float(input(\"Enter the amount of profit earned: \"))"
   ]
  },
  {
   "cell_type": "code",
   "execution_count": 75,
   "id": "d0c867f8",
   "metadata": {},
   "outputs": [
    {
     "name": "stdout",
     "output_type": "stream",
     "text": [
      "Cost price per item is:  2814.8\n"
     ]
    }
   ],
   "source": [
    "print(\"Cost price per item is: \", ((selling_price-profit_earned)/15))"
   ]
  },
  {
   "cell_type": "markdown",
   "id": "ed69fa1b",
   "metadata": {},
   "source": [
    "### Question 13"
   ]
  },
  {
   "cell_type": "code",
   "execution_count": 93,
   "id": "ed669641",
   "metadata": {},
   "outputs": [
    {
     "name": "stdout",
     "output_type": "stream",
     "text": [
      "Enter a five-digit number: 12391\n"
     ]
    }
   ],
   "source": [
    "number_5 = input(\"Enter a five-digit number: \")"
   ]
  },
  {
   "cell_type": "code",
   "execution_count": 94,
   "id": "0a5f41a5",
   "metadata": {},
   "outputs": [
    {
     "name": "stdout",
     "output_type": "stream",
     "text": [
      "The new number is: 23402\n"
     ]
    }
   ],
   "source": [
    "if len(number_5) == 5 and number_5.isdigit():\n",
    "    new_number = \"\"\n",
    "    for digit in number_5:\n",
    "        new_digit = (int(digit) + 1) % 10\n",
    "        new_number += str(new_digit)\n",
    "    print(\"The new number is:\", new_number)\n",
    "else:\n",
    "    print(\"Please enter a valid five-digit number.\")"
   ]
  },
  {
   "cell_type": "raw",
   "id": "bedfe966",
   "metadata": {},
   "source": []
  },
  {
   "cell_type": "markdown",
   "id": "0179e24e",
   "metadata": {},
   "source": [
    "## Task -II"
   ]
  },
  {
   "cell_type": "markdown",
   "id": "1c61cb37",
   "metadata": {},
   "source": [
    "### Question 1"
   ]
  },
  {
   "cell_type": "code",
   "execution_count": 126,
   "id": "365f8198",
   "metadata": {},
   "outputs": [
    {
     "name": "stdout",
     "output_type": "stream",
     "text": [
      "Enter the price per product: 123\n",
      "Enter the quantity: 10\n"
     ]
    }
   ],
   "source": [
    "price = float(input(\"Enter the price per product: \"))\n",
    "quantity = float(input(\"Enter the quantity: \"))"
   ]
  },
  {
   "cell_type": "code",
   "execution_count": 127,
   "id": "973d0243",
   "metadata": {},
   "outputs": [
    {
     "name": "stdout",
     "output_type": "stream",
     "text": [
      "The amount to be paid is:  1230.0\n"
     ]
    }
   ],
   "source": [
    "if quantity>10:\n",
    "    total_expense_with_discount = ((price*quantity) - (price*quantity*0.10))\n",
    "    print (\"The amount to be paid is: \", total_expense_with_discount)\n",
    "else:\n",
    "    total_expense_without_discount = (price*quantity)\n",
    "    print (\"The amount to be paid is: \", total_expense_without_discount)"
   ]
  },
  {
   "cell_type": "markdown",
   "id": "a84b70a4",
   "metadata": {},
   "source": [
    "### Question 2"
   ]
  },
  {
   "cell_type": "code",
   "execution_count": 140,
   "id": "8b2feab8",
   "metadata": {},
   "outputs": [
    {
     "name": "stdout",
     "output_type": "stream",
     "text": [
      "Enter current year: 2024\n",
      "Enter the years you have joined: 2012\n"
     ]
    }
   ],
   "source": [
    "current_year = int(input(\"Enter current year: \"))\n",
    "joined_year = int(input(\"Enter the years you have joined: \"))"
   ]
  },
  {
   "cell_type": "code",
   "execution_count": 141,
   "id": "5ae6e807",
   "metadata": {},
   "outputs": [],
   "source": [
    "working_duration = current_year-joined_year"
   ]
  },
  {
   "cell_type": "code",
   "execution_count": 142,
   "id": "85f309aa",
   "metadata": {},
   "outputs": [
    {
     "name": "stdout",
     "output_type": "stream",
     "text": [
      "You have worked 12 years for the company. Congradulation! You have earned a bonus of Rs. 2500/\n"
     ]
    }
   ],
   "source": [
    "if working_duration>3:\n",
    "    print(f\"You have worked {working_duration} years for the company. Congradulation! You have earned a bonus of Rs. 2500/\")"
   ]
  },
  {
   "cell_type": "markdown",
   "id": "e1c1ea4b",
   "metadata": {},
   "source": [
    "### Question 3"
   ]
  },
  {
   "cell_type": "code",
   "execution_count": 147,
   "id": "6a18d918",
   "metadata": {},
   "outputs": [
    {
     "name": "stdout",
     "output_type": "stream",
     "text": [
      "Enter your salary in Rs: 2000\n"
     ]
    }
   ],
   "source": [
    "salary = float(input(\"Enter your salary in Rs: \"))"
   ]
  },
  {
   "cell_type": "code",
   "execution_count": 148,
   "id": "99506521",
   "metadata": {},
   "outputs": [
    {
     "name": "stdout",
     "output_type": "stream",
     "text": [
      "Your gross salary is:  4460.0\n"
     ]
    }
   ],
   "source": [
    "if salary<1500:\n",
    "    HRA = 0.10*salary\n",
    "    DA = 0.90*salary\n",
    "    gross_salary = salary+HRA+DA\n",
    "    print(\"Your gross salary is: \", gross_salary)\n",
    "elif salary>=1500:\n",
    "    HRA = 500\n",
    "    DA = 0.98*salary\n",
    "    gross_salary = salary+HRA+DA\n",
    "    print(\"Your gross salary is: \", gross_salary)"
   ]
  },
  {
   "cell_type": "markdown",
   "id": "6f74f727",
   "metadata": {},
   "source": [
    "### Question 4"
   ]
  },
  {
   "cell_type": "code",
   "execution_count": 149,
   "id": "9bf672d0",
   "metadata": {},
   "outputs": [
    {
     "name": "stdout",
     "output_type": "stream",
     "text": [
      "Enter your marks in subject 1: 45\n",
      "Enter your marks in subject 2: 78\n",
      "Enter your marks in subject 3: 67\n",
      "Enter your marks in subject 4: 90\n",
      "Enter your marks in subject 5: 87\n"
     ]
    }
   ],
   "source": [
    "subject1 = float(input(\"Enter your marks in subject 1: \"))\n",
    "subject2 = float(input(\"Enter your marks in subject 2: \"))\n",
    "subject3 = float(input(\"Enter your marks in subject 3: \"))\n",
    "subject4 = float(input(\"Enter your marks in subject 4: \"))\n",
    "subject5 = float(input(\"Enter your marks in subject 5: \"))"
   ]
  },
  {
   "cell_type": "code",
   "execution_count": 150,
   "id": "2c8451e4",
   "metadata": {},
   "outputs": [],
   "source": [
    "percentage = (subject1+subject2+subject3+subject4+subject5)/5"
   ]
  },
  {
   "cell_type": "code",
   "execution_count": 151,
   "id": "57b2b15e",
   "metadata": {},
   "outputs": [
    {
     "name": "stdout",
     "output_type": "stream",
     "text": [
      "Your marks is: 73.4%. You got 'First division'\n"
     ]
    }
   ],
   "source": [
    "if percentage>=60:\n",
    "    print (f\"Your marks is: {percentage}%. You got 'First division'\")\n",
    "elif percentage>=50 and percentage<59:\n",
    "    print (f\"Your marks is: {percentage}%. You got 'Second division'\")\n",
    "elif percentage>=40 and percentage<49:\n",
    "    print (f\"Your marks is: {percentage}%. You got 'Third division'\")\n",
    "elif percentage<40:\n",
    "    print (f\"Your marks is: {percentage}%. You 'Fail'\")"
   ]
  },
  {
   "cell_type": "markdown",
   "id": "616d8bf3",
   "metadata": {},
   "source": [
    "### Question 5"
   ]
  },
  {
   "cell_type": "code",
   "execution_count": 164,
   "id": "fecb83e3",
   "metadata": {},
   "outputs": [
    {
     "name": "stdout",
     "output_type": "stream",
     "text": [
      "what is your gender: male\n",
      "What is marital status: unmarried\n",
      "Enter your age: 20\n"
     ]
    }
   ],
   "source": [
    "gender = input(\"what is your gender: \")\n",
    "marital_status = input(\"What is marital status: \")\n",
    "age = int(input(\"Enter your age: \"))"
   ]
  },
  {
   "cell_type": "code",
   "execution_count": 165,
   "id": "94cc30e0",
   "metadata": {},
   "outputs": [],
   "source": [
    "gender = gender.lower()\n",
    "marital_status = marital_status.lower()"
   ]
  },
  {
   "cell_type": "code",
   "execution_count": 166,
   "id": "8ee8be6f",
   "metadata": {},
   "outputs": [
    {
     "name": "stdout",
     "output_type": "stream",
     "text": [
      "Not insured\n"
     ]
    }
   ],
   "source": [
    "if marital_status == \"married\":\n",
    "    print (\"insured\")\n",
    "elif marital_status == \"unmarried\" and gender == \"male\" and age >30:\n",
    "    print (\"insured\")\n",
    "elif marital_status == \"unmarried\" and gender == \"female\" and age >25:\n",
    "    print (\"insured\")\n",
    "else:\n",
    "    print (\"Not insured\")"
   ]
  },
  {
   "cell_type": "markdown",
   "id": "501e4100",
   "metadata": {},
   "source": [
    "### Question 6"
   ]
  },
  {
   "cell_type": "code",
   "execution_count": 104,
   "id": "d6f02e3a",
   "metadata": {},
   "outputs": [
    {
     "name": "stdout",
     "output_type": "stream",
     "text": [
      "Enter gender (Male/Female): Male\n",
      "Enter years of service: 12\n",
      "Enter qualification (Post - Graduate/Graduate): Graduate\n"
     ]
    }
   ],
   "source": [
    "gender = input(\"Enter gender (Male/Female): \").strip()\n",
    "years_of_service = int(input(\"Enter years of service: \"))\n",
    "qualification = input(\"Enter qualification (Post - Graduate/Graduate): \").strip()"
   ]
  },
  {
   "cell_type": "code",
   "execution_count": 105,
   "id": "8c8e4a35",
   "metadata": {},
   "outputs": [],
   "source": [
    "salary = 0"
   ]
  },
  {
   "cell_type": "code",
   "execution_count": 106,
   "id": "23c0c7b7",
   "metadata": {},
   "outputs": [
    {
     "name": "stdout",
     "output_type": "stream",
     "text": [
      "The salary for a Male with 12 years of service and Graduate qualification is 10000.\n"
     ]
    }
   ],
   "source": [
    "if gender == 'Male':\n",
    "    if years_of_service >= 10:\n",
    "        if qualification == 'Post - Graduate':\n",
    "            salary = 15000\n",
    "        elif qualification == 'Graduate':\n",
    "            salary = 10000\n",
    "    else:\n",
    "        if qualification == 'Post - Graduate':\n",
    "            salary = 10000\n",
    "        elif qualification == 'Graduate':\n",
    "            salary = 7000\n",
    "elif gender == 'Female':\n",
    "    if years_of_service >= 10:\n",
    "        if qualification == 'Post - Graduate':\n",
    "            salary = 12000\n",
    "        elif qualification == 'Graduate':\n",
    "            salary = 9000\n",
    "    else:\n",
    "        if qualification == 'Post - Graduate':\n",
    "            salary = 10000\n",
    "        elif qualification == 'Graduate':\n",
    "            salary = 6000\n",
    "\n",
    "print(f'The salary for a {gender} with {years_of_service} years of service and {qualification} qualification is {salary}.')"
   ]
  },
  {
   "cell_type": "markdown",
   "id": "a6b85325",
   "metadata": {},
   "source": [
    "### Question 7"
   ]
  },
  {
   "cell_type": "code",
   "execution_count": 1,
   "id": "efd12a61",
   "metadata": {},
   "outputs": [
    {
     "name": "stdout",
     "output_type": "stream",
     "text": [
      "Enter the cost price: 5678.23\n",
      "Enter the cost price: 7890.34\n"
     ]
    }
   ],
   "source": [
    "cost_price = float (input(\"Enter the cost price: \"))\n",
    "selling_price = float(input(\"Enter the cost price: \"))"
   ]
  },
  {
   "cell_type": "code",
   "execution_count": 3,
   "id": "0bbb5e78",
   "metadata": {},
   "outputs": [
    {
     "name": "stdout",
     "output_type": "stream",
     "text": [
      "Profit\n",
      "The profit is:  2212.1100000000006\n"
     ]
    }
   ],
   "source": [
    "if selling_price>cost_price:\n",
    "    print(\"Profit\")\n",
    "    profit = selling_price-cost_price\n",
    "    print(\"The profit is: \", profit)\n",
    "elif cost_price>selling:\n",
    "    print(\"Loss\")\n",
    "    loss = cost_price-selling_price\n",
    "    print(\"The loss is: \", loss)\n",
    "else:\n",
    "    print(\"Neither profit nor loss.\")"
   ]
  },
  {
   "cell_type": "markdown",
   "id": "d433fe90",
   "metadata": {},
   "source": [
    "### Question 8"
   ]
  },
  {
   "cell_type": "code",
   "execution_count": 8,
   "id": "aaadc860",
   "metadata": {},
   "outputs": [
    {
     "name": "stdout",
     "output_type": "stream",
     "text": [
      "Enter the number: 56\n"
     ]
    }
   ],
   "source": [
    "user_input = int(input(\"Enter the number: \"))"
   ]
  },
  {
   "cell_type": "code",
   "execution_count": 9,
   "id": "0aae7486",
   "metadata": {},
   "outputs": [
    {
     "name": "stdout",
     "output_type": "stream",
     "text": [
      "The number is even\n"
     ]
    }
   ],
   "source": [
    "if user_input%2==0:\n",
    "    print(\"The number is even\")\n",
    "elif user_input%2==1:\n",
    "    print(\"The number is odd\")\n",
    "else:\n",
    "    print(\"Invalid input\")"
   ]
  },
  {
   "cell_type": "markdown",
   "id": "6d6508cb",
   "metadata": {},
   "source": [
    "### Question 9"
   ]
  },
  {
   "cell_type": "code",
   "execution_count": 29,
   "id": "6d09bbed",
   "metadata": {},
   "outputs": [
    {
     "name": "stdout",
     "output_type": "stream",
     "text": [
      "Enter the 5 digit number: 12345\n"
     ]
    }
   ],
   "source": [
    "number_five = (input(\"Enter the 5 digit number: \"))"
   ]
  },
  {
   "cell_type": "code",
   "execution_count": 31,
   "id": "70214551",
   "metadata": {},
   "outputs": [
    {
     "name": "stdout",
     "output_type": "stream",
     "text": [
      "The reversed number is:  54321\n"
     ]
    }
   ],
   "source": [
    "reversed_number = str(number_five[::-1])\n",
    "print(\"The reversed number is: \", reversed_number)"
   ]
  },
  {
   "cell_type": "code",
   "execution_count": 32,
   "id": "431832cc",
   "metadata": {},
   "outputs": [
    {
     "name": "stdout",
     "output_type": "stream",
     "text": [
      "The reversed number is greater.\n"
     ]
    }
   ],
   "source": [
    "if number_five>reversed_number:\n",
    "    print(\"The actual number is greater.\")\n",
    "elif reversed_number>number_five:\n",
    "    print(\"The reversed number is greater.\")\n",
    "else:\n",
    "    print(\"The number is a Pallindrome\")"
   ]
  },
  {
   "cell_type": "markdown",
   "id": "fb61a235",
   "metadata": {},
   "source": [
    "### Question 10"
   ]
  },
  {
   "cell_type": "code",
   "execution_count": 42,
   "id": "6d06d942",
   "metadata": {},
   "outputs": [
    {
     "name": "stdout",
     "output_type": "stream",
     "text": [
      "Enter the age of Ram: 12\n",
      "Enter the age of Shaym: 10\n",
      "Enter the age of Ajay: 15\n"
     ]
    }
   ],
   "source": [
    "ram = int(input(\"Enter the age of Ram: \"))\n",
    "shaym = int(input(\"Enter the age of Shaym: \"))\n",
    "ajay = int(input(\"Enter the age of Ajay: \"))"
   ]
  },
  {
   "cell_type": "code",
   "execution_count": 43,
   "id": "cbd8e2ad",
   "metadata": {},
   "outputs": [
    {
     "name": "stdout",
     "output_type": "stream",
     "text": [
      "Shaym is the youngest\n"
     ]
    }
   ],
   "source": [
    "if ram<shaym and shaym<ajay:\n",
    "    print(\"Ram is the youngest\")\n",
    "elif ram>shaym and shaym>ajay:\n",
    "    print(\"Ajay is the youngest\")\n",
    "else:\n",
    "    print(\"Shaym is the youngest\")"
   ]
  },
  {
   "cell_type": "markdown",
   "id": "a8dab6c5",
   "metadata": {},
   "source": [
    "### Question 11"
   ]
  },
  {
   "cell_type": "code",
   "execution_count": 56,
   "id": "eb87447f",
   "metadata": {},
   "outputs": [
    {
     "name": "stdout",
     "output_type": "stream",
     "text": [
      "Enter the 1st angle of the triangle in degrees: 67\n",
      "Enter the 2nd angle of the triangle in degrees: 56\n",
      "Enter the 3rd angle of the triangle in degrees: 45\n"
     ]
    }
   ],
   "source": [
    "angle1 = float(input(\"Enter the 1st angle of the triangle in degrees: \"))\n",
    "angle2 = float(input(\"Enter the 2nd angle of the triangle in degrees: \"))\n",
    "angle3 = float(input(\"Enter the 3rd angle of the triangle in degrees: \"))"
   ]
  },
  {
   "cell_type": "code",
   "execution_count": 57,
   "id": "49ade1c1",
   "metadata": {},
   "outputs": [
    {
     "name": "stdout",
     "output_type": "stream",
     "text": [
      "The triangle is not valid.\n"
     ]
    }
   ],
   "source": [
    "total_angle = (angle1+angle2+angle3)\n",
    "if angle1 !=0 and angle2 !=0 and angle3!=0 and total_angle == 180:\n",
    "    print(\"The triangle is valid.\")\n",
    "else:\n",
    "    print(\"The triangle is not valid.\")"
   ]
  },
  {
   "cell_type": "markdown",
   "id": "fe66b8a0",
   "metadata": {},
   "source": [
    "### Question 12"
   ]
  },
  {
   "cell_type": "code",
   "execution_count": 60,
   "id": "f729f449",
   "metadata": {},
   "outputs": [
    {
     "name": "stdout",
     "output_type": "stream",
     "text": [
      "Enter the number: -67.89\n"
     ]
    }
   ],
   "source": [
    "original_number = float(input(\"Enter the number: \"))"
   ]
  },
  {
   "cell_type": "code",
   "execution_count": 61,
   "id": "d2c7904a",
   "metadata": {},
   "outputs": [
    {
     "name": "stdout",
     "output_type": "stream",
     "text": [
      "The absolute value is:  67.89\n"
     ]
    }
   ],
   "source": [
    "if original_number<0:\n",
    "    absolute_value = original_number*(-1)\n",
    "    print (\"The absolute value is: \", absolute_value)\n",
    "else:\n",
    "    absolute_value = original_number\n",
    "    print(\"The bsolute value is: \", absolute_value)"
   ]
  },
  {
   "cell_type": "markdown",
   "id": "35ecef53",
   "metadata": {},
   "source": [
    "### Question 13"
   ]
  },
  {
   "cell_type": "code",
   "execution_count": 66,
   "id": "f81e67b1",
   "metadata": {},
   "outputs": [
    {
     "name": "stdout",
     "output_type": "stream",
     "text": [
      "Enter the length: 12\n",
      "Enter the breadth: 14\n"
     ]
    }
   ],
   "source": [
    "length = float(input(\"Enter the length: \"))\n",
    "breadth = float(input(\"Enter the breadth: \"))"
   ]
  },
  {
   "cell_type": "code",
   "execution_count": 67,
   "id": "05ab474a",
   "metadata": {},
   "outputs": [
    {
     "name": "stdout",
     "output_type": "stream",
     "text": [
      "The area is 168.0, the permiter is 52.0 and the area is greater than the perimeter.\n"
     ]
    }
   ],
   "source": [
    "area = length*breadth\n",
    "perimeter = 2*(length+breadth)\n",
    "if area>perimeter:\n",
    "    print (f\"The area is {area}, the permiter is {perimeter} and the area is greater than the perimeter.\")\n",
    "elif area<perimeter:\n",
    "    print (f\"The area is {area}, the permiter is {perimeter} and the area is lesser than the perimeter.\")\n",
    "else:\n",
    "    print(\"Both are equal\")"
   ]
  },
  {
   "cell_type": "markdown",
   "id": "c2c05cde",
   "metadata": {},
   "source": [
    "### Question 14"
   ]
  },
  {
   "cell_type": "code",
   "execution_count": 81,
   "id": "e6810d72",
   "metadata": {},
   "outputs": [
    {
     "name": "stdout",
     "output_type": "stream",
     "text": [
      "Enter the year to check: 2021\n"
     ]
    }
   ],
   "source": [
    "year = int(input(\"Enter the year to check: \"))"
   ]
  },
  {
   "cell_type": "code",
   "execution_count": 82,
   "id": "38747b73",
   "metadata": {},
   "outputs": [
    {
     "name": "stdout",
     "output_type": "stream",
     "text": [
      "The entered year is not a leap year\n"
     ]
    }
   ],
   "source": [
    "if (year%4==0) or (year%100==0 and year%400==0):\n",
    "    print(\"The entered year is a leap year\")\n",
    "else:\n",
    "    print(\"The entered year is not a leap year\")"
   ]
  },
  {
   "cell_type": "markdown",
   "id": "23901907",
   "metadata": {},
   "source": [
    "### Question 15"
   ]
  },
  {
   "cell_type": "code",
   "execution_count": 86,
   "id": "f4ec55f6",
   "metadata": {},
   "outputs": [
    {
     "name": "stdout",
     "output_type": "stream",
     "text": [
      "Hardness: 48\n",
      "Carbon: 0.6\n",
      "Tensile Strength: 5800\n"
     ]
    }
   ],
   "source": [
    "hardness = float(input(\"Hardness: \"))\n",
    "carbon = float(input(\"Carbon: \"))\n",
    "tensile = float(input(\"Tensile Strength: \"))"
   ]
  },
  {
   "cell_type": "code",
   "execution_count": 87,
   "id": "bd19a490",
   "metadata": {},
   "outputs": [
    {
     "name": "stdout",
     "output_type": "stream",
     "text": [
      "Grade 8\n"
     ]
    }
   ],
   "source": [
    "if hardness>50 and carbon<0.7 and tensile>5600:\n",
    "    print (\"Grade 10\")\n",
    "elif hardness>50 and carbon<0.7 and tensile<=5600:\n",
    "    print(\"Grade 9\")\n",
    "elif hardness<=50 and carbon<0.7 and tensile>5600:\n",
    "    print(\"Grade 8\")\n",
    "elif hardness>50 and carbon>=0.7 and tensile>5600:\n",
    "    print(\"Grade 7\")\n",
    "elif hardness>50 and carbon>=0.7 and tensile<=5600:\n",
    "    print(\"Grade 6\")\n",
    "else:\n",
    "    print(\"Grade 5\")"
   ]
  },
  {
   "cell_type": "markdown",
   "id": "6c135165",
   "metadata": {},
   "source": [
    "### Question 16"
   ]
  },
  {
   "cell_type": "code",
   "execution_count": 92,
   "id": "4657ac32",
   "metadata": {},
   "outputs": [
    {
     "name": "stdout",
     "output_type": "stream",
     "text": [
      "Number of days: 13\n"
     ]
    }
   ],
   "source": [
    "days = int(input(\"Number of days: \"))"
   ]
  },
  {
   "cell_type": "code",
   "execution_count": 93,
   "id": "625b8554",
   "metadata": {},
   "outputs": [
    {
     "name": "stdout",
     "output_type": "stream",
     "text": [
      "The fine is: Rs  22.5\n"
     ]
    }
   ],
   "source": [
    "if days <=5:\n",
    "    fine = days*0.5\n",
    "    print(\"The fine is: Rs \", fine)\n",
    "elif days>5 and days<=10:\n",
    "    fine = 5*0.5+(days-5)*1\n",
    "    print(\"The fine is: Rs \", fine)\n",
    "elif days>10 and days<=30:\n",
    "    fine = 5*0.5 + 5*1+(days-10)*5\n",
    "    print(\"The fine is: Rs \", fine)\n",
    "elif days>30:\n",
    "    print(\"Sorry! Your membership has been cancelled\")\n",
    "else:\n",
    "    print(\"Good Job. You are on time\")"
   ]
  },
  {
   "cell_type": "markdown",
   "id": "5ecd3b8a",
   "metadata": {},
   "source": [
    "### Question 17"
   ]
  },
  {
   "cell_type": "code",
   "execution_count": 102,
   "id": "de4e56aa",
   "metadata": {},
   "outputs": [
    {
     "name": "stdout",
     "output_type": "stream",
     "text": [
      "Enter the time taken in hours: 2.5\n"
     ]
    }
   ],
   "source": [
    "time_taken = float(input(\"Enter the time taken in hours: \"))"
   ]
  },
  {
   "cell_type": "code",
   "execution_count": 103,
   "id": "bf0214f8",
   "metadata": {},
   "outputs": [
    {
     "name": "stdout",
     "output_type": "stream",
     "text": [
      "Highly efficient\n"
     ]
    }
   ],
   "source": [
    "if time_taken>=2 and time_taken<3:\n",
    "    print(\"Highly efficient\")\n",
    "elif time_taken>=3 and time_taken<4:\n",
    "    print(\"Please improve your speed.\")\n",
    "elif time_taken>=4 and time_taken<5:\n",
    "    print(\"Required training\")\n",
    "elif time_taken>5:\n",
    "    print(\"Sorry! You have to leave the company\")"
   ]
  },
  {
   "cell_type": "markdown",
   "id": "af0e76c3",
   "metadata": {},
   "source": [
    "## Task -III"
   ]
  },
  {
   "cell_type": "markdown",
   "id": "3d6e70f3",
   "metadata": {},
   "source": [
    "### Question 1"
   ]
  },
  {
   "cell_type": "code",
   "execution_count": 8,
   "id": "132cf6ba",
   "metadata": {},
   "outputs": [
    {
     "name": "stdout",
     "output_type": "stream",
     "text": [
      "Enter the number:21\n"
     ]
    }
   ],
   "source": [
    "number = int(input(\"Enter the number:\"))"
   ]
  },
  {
   "cell_type": "code",
   "execution_count": 10,
   "id": "f26f05bd",
   "metadata": {},
   "outputs": [
    {
     "name": "stdout",
     "output_type": "stream",
     "text": [
      "1\n",
      "3\n",
      "7\n",
      "21\n"
     ]
    }
   ],
   "source": [
    "i=2\n",
    "for i in range (1, number+1):\n",
    "    if number%i==0:\n",
    "        print(i)"
   ]
  },
  {
   "cell_type": "markdown",
   "id": "cff4e081",
   "metadata": {},
   "source": [
    "### Question 2"
   ]
  },
  {
   "cell_type": "code",
   "execution_count": 70,
   "id": "06a662e0",
   "metadata": {},
   "outputs": [
    {
     "name": "stdout",
     "output_type": "stream",
     "text": [
      "Enter the number:17\n"
     ]
    }
   ],
   "source": [
    "num = int(input(\"Enter the number:\"))"
   ]
  },
  {
   "cell_type": "code",
   "execution_count": 71,
   "id": "c49dfd65",
   "metadata": {},
   "outputs": [
    {
     "name": "stdout",
     "output_type": "stream",
     "text": [
      "17 is a prime number\n"
     ]
    }
   ],
   "source": [
    "# define a flag variable\n",
    "flag = False\n",
    "\n",
    "if num == 1:\n",
    "    print(num, \"is not a prime number\")\n",
    "elif num > 1:\n",
    "    for i in range(2, num):\n",
    "        if (num % i) == 0:\n",
    "            flag = True\n",
    "            break\n",
    "\n",
    "    if flag:\n",
    "        print(num, \"is not a prime number\")\n",
    "    else:\n",
    "        print(num, \"is a prime number\")"
   ]
  },
  {
   "cell_type": "markdown",
   "id": "9fefad55",
   "metadata": {},
   "source": [
    "### Question 3"
   ]
  },
  {
   "cell_type": "code",
   "execution_count": 39,
   "id": "8c9f3d18",
   "metadata": {},
   "outputs": [
    {
     "name": "stdout",
     "output_type": "stream",
     "text": [
      "Enter the number to check: 153\n"
     ]
    }
   ],
   "source": [
    "input_amstrong = int(input(\"Enter the number to check: \"))"
   ]
  },
  {
   "cell_type": "code",
   "execution_count": 73,
   "id": "22f131f5",
   "metadata": {},
   "outputs": [
    {
     "name": "stdout",
     "output_type": "stream",
     "text": [
      "The number is an amstrong number\n"
     ]
    }
   ],
   "source": [
    "sum = 0\n",
    "temp =input_amstrong\n",
    "while temp>0:\n",
    "    digit = temp%10\n",
    "    sum = sum+digit**3\n",
    "    temp//=10\n",
    "if input_amstrong == sum:\n",
    "    print(\"The number is an amstrong number\")\n",
    "else:\n",
    "    print(\"The number is not an amstrong number\")"
   ]
  },
  {
   "cell_type": "markdown",
   "id": "b27d977d",
   "metadata": {},
   "source": [
    "### Question 4"
   ]
  },
  {
   "cell_type": "code",
   "execution_count": 84,
   "id": "6ae81564",
   "metadata": {},
   "outputs": [
    {
     "name": "stdout",
     "output_type": "stream",
     "text": [
      "125\n",
      "216\n",
      "729\n"
     ]
    }
   ],
   "source": [
    "for i in range (100,999):\n",
    "    sum =0\n",
    "    original = i\n",
    "    while i >=100 and i<999:\n",
    "        digit = i%10\n",
    "        sum = sum+digit**3\n",
    "        i//=10\n",
    "    if sum ==original:\n",
    "        print(original)\n",
    "    else:\n",
    "        pass"
   ]
  },
  {
   "cell_type": "markdown",
   "id": "57ac929b",
   "metadata": {},
   "source": [
    "### Question 5"
   ]
  },
  {
   "cell_type": "code",
   "execution_count": 49,
   "id": "e3156f97",
   "metadata": {},
   "outputs": [
    {
     "name": "stdout",
     "output_type": "stream",
     "text": [
      "Enter the range: 20\n"
     ]
    }
   ],
   "source": [
    "number_range = int(input(\"Enter the range: \"))"
   ]
  },
  {
   "cell_type": "code",
   "execution_count": 53,
   "id": "7b71b286",
   "metadata": {},
   "outputs": [
    {
     "name": "stdout",
     "output_type": "stream",
     "text": [
      "Even Numbers are: \n",
      "4\n",
      "6\n",
      "8\n",
      "10\n",
      "12\n",
      "14\n",
      "16\n",
      "18\n",
      "20\n",
      "Odd numbers are:\n",
      "3\n",
      "5\n",
      "7\n",
      "9\n",
      "11\n",
      "13\n",
      "15\n",
      "17\n",
      "19\n"
     ]
    }
   ],
   "source": [
    "i=3\n",
    "print(\"Even Numbers are: \")\n",
    "for i in range (3, (number_range+1)):\n",
    "    if i%2==0:\n",
    "        print(i)\n",
    "print(\"Odd numbers are:\")\n",
    "for i in range (3, (number_range+1)):\n",
    "    if i%2!=0:\n",
    "        print(i)"
   ]
  },
  {
   "cell_type": "markdown",
   "id": "f92e4799",
   "metadata": {},
   "source": [
    "### Question 6"
   ]
  },
  {
   "cell_type": "code",
   "execution_count": 85,
   "id": "43504862",
   "metadata": {},
   "outputs": [
    {
     "name": "stdout",
     "output_type": "stream",
     "text": [
      "Enter the number: 123\n"
     ]
    }
   ],
   "source": [
    "n = int(input(\"Enter the number: \"))"
   ]
  },
  {
   "cell_type": "code",
   "execution_count": 91,
   "id": "8ecb502b",
   "metadata": {},
   "outputs": [
    {
     "name": "stdout",
     "output_type": "stream",
     "text": [
      "The reverse number is:  321\n"
     ]
    }
   ],
   "source": [
    "reverse = 0\n",
    "while n>0:\n",
    "    digit = n%10\n",
    "    reverse = reverse*10+digit\n",
    "    n//=10\n",
    "print(\"The reverse number is: \", reverse)"
   ]
  },
  {
   "cell_type": "markdown",
   "id": "77f0c3ca",
   "metadata": {},
   "source": [
    "### Question 7"
   ]
  },
  {
   "cell_type": "code",
   "execution_count": 116,
   "id": "86299e79",
   "metadata": {},
   "outputs": [
    {
     "name": "stdout",
     "output_type": "stream",
     "text": [
      "Enter a number: 7\n"
     ]
    }
   ],
   "source": [
    "n = int(input(\"Enter a number: \"))"
   ]
  },
  {
   "cell_type": "code",
   "execution_count": 117,
   "id": "e9911473",
   "metadata": {},
   "outputs": [
    {
     "name": "stdout",
     "output_type": "stream",
     "text": [
      "The binary number is:  111\n"
     ]
    }
   ],
   "source": [
    "binary = 0\n",
    "digit = 1\n",
    "while n>0:\n",
    "    remainder = n%2\n",
    "    binary = binary + remainder*digit\n",
    "    n//=2\n",
    "    digit = digit*10\n",
    "print(\"The binary number is: \", binary)"
   ]
  },
  {
   "cell_type": "markdown",
   "id": "fa8fe0d3",
   "metadata": {},
   "source": [
    "### Question 8"
   ]
  },
  {
   "cell_type": "code",
   "execution_count": 131,
   "id": "02b01a73",
   "metadata": {},
   "outputs": [
    {
     "name": "stdout",
     "output_type": "stream",
     "text": [
      "Enter the binary number: 1010\n"
     ]
    }
   ],
   "source": [
    "binary = int(input(\"Enter the binary number: \"))"
   ]
  },
  {
   "cell_type": "code",
   "execution_count": 132,
   "id": "5f11daa6",
   "metadata": {},
   "outputs": [
    {
     "name": "stdout",
     "output_type": "stream",
     "text": [
      "decimal number is:  10\n"
     ]
    }
   ],
   "source": [
    "decimal =0\n",
    "power = 0\n",
    "while binary>0:\n",
    "    digit = binary%10\n",
    "    decimal = decimal + digit*(2**power)\n",
    "    binary//=10\n",
    "    power = power+1\n",
    "print(\"decimal number is: \", decimal)"
   ]
  },
  {
   "cell_type": "markdown",
   "id": "816be83e",
   "metadata": {},
   "source": [
    "### Question 9"
   ]
  },
  {
   "cell_type": "code",
   "execution_count": 146,
   "id": "93f5d761",
   "metadata": {},
   "outputs": [
    {
     "name": "stdout",
     "output_type": "stream",
     "text": [
      "Enter the number: 5\n"
     ]
    }
   ],
   "source": [
    "fact = int(input(\"Enter the number: \"))"
   ]
  },
  {
   "cell_type": "code",
   "execution_count": 152,
   "id": "78d1eb8f",
   "metadata": {},
   "outputs": [
    {
     "name": "stdout",
     "output_type": "stream",
     "text": [
      "The factorial is:  120\n"
     ]
    }
   ],
   "source": [
    "if fact<0:\n",
    "    print(\"The number is negative. Please enter a positive interger to check\")\n",
    "factorial = 1\n",
    "for i in range (1, fact+1):\n",
    "    factorial = factorial *i\n",
    "print(f\"The factorial is: \", factorial)"
   ]
  },
  {
   "cell_type": "markdown",
   "id": "7dc1ade4",
   "metadata": {},
   "source": [
    "### Question 10"
   ]
  },
  {
   "cell_type": "code",
   "execution_count": 153,
   "id": "dc4db71d",
   "metadata": {},
   "outputs": [
    {
     "name": "stdout",
     "output_type": "stream",
     "text": [
      "Enter the sequence: 10\n",
      "1 2 3 5 8 13 21 34 55 89 \n"
     ]
    }
   ],
   "source": [
    "n = int(input(\"Enter the sequence: \"))\n",
    "num1 = 0\n",
    "num2 = 1\n",
    "next_number = num2  \n",
    "count = 1\n",
    " \n",
    "while count <= n:\n",
    "    print(next_number, end=\" \")\n",
    "    count += 1\n",
    "    num1, num2 = num2, next_number\n",
    "    next_number = num1 + num2\n",
    "print()"
   ]
  },
  {
   "cell_type": "markdown",
   "id": "d6d4e386",
   "metadata": {},
   "source": [
    "### Question 11"
   ]
  },
  {
   "cell_type": "code",
   "execution_count": 173,
   "id": "ef20c483",
   "metadata": {},
   "outputs": [
    {
     "name": "stdout",
     "output_type": "stream",
     "text": [
      "Enter the number: 28\n"
     ]
    }
   ],
   "source": [
    "perfect = int(input(\"Enter the number: \"))"
   ]
  },
  {
   "cell_type": "code",
   "execution_count": 174,
   "id": "f852b021",
   "metadata": {},
   "outputs": [
    {
     "name": "stdout",
     "output_type": "stream",
     "text": [
      "The number is a perfect number\n"
     ]
    }
   ],
   "source": [
    "sum = 0\n",
    "for i in range (1,perfect):\n",
    "    if perfect%i ==0:\n",
    "        sum = sum + i\n",
    "if sum == perfect:\n",
    "    print(\"The number is a perfect number\")\n",
    "else:\n",
    "    print(\"The number is not a perfect number.\")"
   ]
  },
  {
   "cell_type": "markdown",
   "id": "6874414b",
   "metadata": {},
   "source": [
    "### Question 12"
   ]
  },
  {
   "cell_type": "code",
   "execution_count": 187,
   "id": "ee0da0fe",
   "metadata": {},
   "outputs": [
    {
     "name": "stdout",
     "output_type": "stream",
     "text": [
      "6\n",
      "28\n",
      "496\n"
     ]
    }
   ],
   "source": [
    "for num in range(1, 1000):\n",
    "    sum_of_divisors = 0\n",
    "    for i in range(1, num):\n",
    "        if num % i == 0:\n",
    "            sum_of_divisors += i\n",
    "    if sum_of_divisors == num:\n",
    "        print(num)"
   ]
  },
  {
   "cell_type": "markdown",
   "id": "20235aba",
   "metadata": {},
   "source": [
    "### Question 13"
   ]
  },
  {
   "cell_type": "code",
   "execution_count": 188,
   "id": "880db81a",
   "metadata": {},
   "outputs": [
    {
     "name": "stdout",
     "output_type": "stream",
     "text": [
      "Enter a number:145\n"
     ]
    }
   ],
   "source": [
    "num=int(input(\"Enter a number:\"))"
   ]
  },
  {
   "cell_type": "code",
   "execution_count": 189,
   "id": "2a48ad88",
   "metadata": {},
   "outputs": [
    {
     "name": "stdout",
     "output_type": "stream",
     "text": [
      "Given number is a strong number\n"
     ]
    }
   ],
   "source": [
    "sum=0    \n",
    "temp=num  \n",
    "\n",
    "while(num):  \n",
    "    \n",
    "    i=1  \n",
    "     \n",
    "    fact=1  \n",
    "    rem=num%10  \n",
    "    while(i<=rem):  \n",
    "        fact=fact*i     \n",
    "        i=i+1  \n",
    "    sum=sum+fact  \n",
    "    num=num//10  \n",
    "if(sum==temp):  \n",
    "    print(\"Given number is a strong number\")  \n",
    "else:  \n",
    "    print(\"Given number is not a strong number\")  "
   ]
  },
  {
   "cell_type": "markdown",
   "id": "f23f1bf6",
   "metadata": {},
   "source": [
    "### Question 14"
   ]
  },
  {
   "cell_type": "code",
   "execution_count": 190,
   "id": "83d1ac2c",
   "metadata": {},
   "outputs": [
    {
     "name": "stdout",
     "output_type": "stream",
     "text": [
      "Enter 1st number: 3\n",
      "Enter the 2nd number: 2\n"
     ]
    }
   ],
   "source": [
    "number1 = int(input(\"Enter 1st number: \"))\n",
    "number2 = int(input(\"Enter the 2nd number: \"))"
   ]
  },
  {
   "cell_type": "code",
   "execution_count": 192,
   "id": "dbd610d7",
   "metadata": {},
   "outputs": [
    {
     "name": "stdout",
     "output_type": "stream",
     "text": [
      "Result 1:  9\n",
      "Result 2:  8\n"
     ]
    }
   ],
   "source": [
    "result1 = number1**number2\n",
    "result2 = number2**number1\n",
    "print(\"Result 1: \", result1)\n",
    "print(\"Result 2: \", result2)"
   ]
  }
 ],
 "metadata": {
  "kernelspec": {
   "display_name": "Python 3 (ipykernel)",
   "language": "python",
   "name": "python3"
  },
  "language_info": {
   "codemirror_mode": {
    "name": "ipython",
    "version": 3
   },
   "file_extension": ".py",
   "mimetype": "text/x-python",
   "name": "python",
   "nbconvert_exporter": "python",
   "pygments_lexer": "ipython3",
   "version": "3.9.13"
  }
 },
 "nbformat": 4,
 "nbformat_minor": 5
}
